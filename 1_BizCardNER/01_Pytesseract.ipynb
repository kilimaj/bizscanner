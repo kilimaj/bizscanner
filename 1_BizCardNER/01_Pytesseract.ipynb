{
 "cells": [
  {
   "cell_type": "markdown",
   "id": "b63b1c5b",
   "metadata": {},
   "source": [
    "# Learning pytesseract basics"
   ]
  },
  {
   "cell_type": "code",
   "execution_count": 1,
   "id": "08007830",
   "metadata": {},
   "outputs": [],
   "source": [
    "import numpy as np\n",
    "import pandas as pd\n",
    "import cv2\n",
    "import PIL\n",
    "import pytesseract"
   ]
  },
  {
   "cell_type": "code",
   "execution_count": null,
   "id": "2f1d7a66",
   "metadata": {},
   "outputs": [],
   "source": [
    "#Load image using CV2 \n",
    "img_cv = cv2.imread('./card-data/052.jpeg')\n",
    "cv2.imshow('Business Card', img_cv)\n",
    "cv2.waitKey(1)\n",
    "cv2.destroyAllWindows()"
   ]
  },
  {
   "cell_type": "code",
   "execution_count": null,
   "id": "9958aff3",
   "metadata": {},
   "outputs": [],
   "source": [
    "# Load image using PIl\n",
    "img_pl = PIL.Image.open(./c)"
   ]
  }
 ],
 "metadata": {
  "kernelspec": {
   "display_name": "Python 3 (ipykernel)",
   "language": "python",
   "name": "python3"
  },
  "language_info": {
   "codemirror_mode": {
    "name": "ipython",
    "version": 3
   },
   "file_extension": ".py",
   "mimetype": "text/x-python",
   "name": "python",
   "nbconvert_exporter": "python",
   "pygments_lexer": "ipython3",
   "version": "3.10.5"
  }
 },
 "nbformat": 4,
 "nbformat_minor": 5
}
